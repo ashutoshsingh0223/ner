{
 "cells": [
  {
   "cell_type": "code",
   "execution_count": 9,
   "metadata": {},
   "outputs": [],
   "source": [
    "import pandas as pd\n",
    "import numpy as np\n",
    "import json\n",
    "import re"
   ]
  },
  {
   "cell_type": "code",
   "execution_count": 21,
   "metadata": {},
   "outputs": [],
   "source": [
    "df = pd.read_excel(\"quora_questions_for_entity.xlsx\",sheet_name=\"Sheet1\")\n",
    "entity_data = {}"
   ]
  },
  {
   "cell_type": "code",
   "execution_count": 22,
   "metadata": {},
   "outputs": [],
   "source": [
    "ANATOMY = df[\"ANATOMY\"].values.tolist()\n",
    "ANATOMY.sort(key = lambda s: len(str(s)))\n",
    "ANATOMY = list(reversed(ANATOMY))\n",
    "entity_data.update({\"ANATOMY\":ANATOMY})\n",
    "\n",
    "\n",
    "DEMOGRAPHIC = df[\"DEMOGRAPHIC\"].values.tolist()\n",
    "DEMOGRAPHIC.sort(key = lambda s: len(str(s)))\n",
    "DEMOGRAPHIC = list(reversed(DEMOGRAPHIC))\n",
    "entity_data.update({\"DEMOGRAPHIC\":DEMOGRAPHIC})\n",
    "\n",
    "DEVICES = df[\"DEVICES\"].values.tolist()\n",
    "DEVICES.sort(key = lambda s: len(str(s)))\n",
    "DEVICES = list(reversed(DEVICES))\n",
    "entity_data.update({\"DEVICES\":DEVICES})\n",
    "\n",
    "DRUGS = df[\"DRUGS\"].values.tolist()\n",
    "DRUGS.sort(key = lambda s: len(str(s)))\n",
    "DRUGS = list(reversed(DRUGS))\n",
    "entity_data.update({\"DRUGS\":DRUGS})\n",
    "\n",
    "FINDINGS = df[\"FINDINGS\"].values.tolist() \n",
    "FINDINGS.sort(key = lambda s: len(str(s)))\n",
    "FINDINGS = list(reversed(FINDINGS))\n",
    "entity_data.update({\"FINDINGS\":FINDINGS})\n",
    "\n",
    "PROBLEMS = df[\"PROBLEMS\"].values.tolist()\n",
    "PROBLEMS.sort(key = lambda s: len(str(s)))\n",
    "PROBLEMS = list(reversed(PROBLEMS))\n",
    "entity_data.update({\"PROBLEMS\":PROBLEMS})\n",
    "\n",
    "PROCEDURES = df[\"PROCEDURES\"].values.tolist()\n",
    "PROCEDURES.sort(key = lambda s: len(str(s)))\n",
    "PROCEDURES = list(reversed(PROCEDURES))\n",
    "entity_data.update({\"PROCEDURES\":PROCEDURES})\n",
    "#\"led\" \"co\" \"mct\" \"aim\" \"thc\" \"hla\" \"atp\" \"msm\" \"uk\""
   ]
  },
  {
   "cell_type": "code",
   "execution_count": 23,
   "metadata": {},
   "outputs": [],
   "source": [
    "stop_words = set([\"best\", \"way\", \"much\", \"many\", \"same\", \"time\", \"easy\", \"ways\", \"i\", \"m\", \"i'\", \"isn't\", \"should\", \"could\", \"would\", \"shall\", \"can\", \"will\", \"\",\n",
    "                  \"shouldn't\", \"couldn't\", \"wouldn't\", \"shalln't\", \"can't\", \"will\", \"won't\", \"not\", \"first\", \"last\", \"what\", \"where\", \"how\", \"who\", \"there\", \"this\",\n",
    "                  \"that\", \"it\", \"they\", \"those\", \"these\", \"them\", \"was\", \"is\", \"am\", \"are\", \"do\", \"done\", \"did\",\"my\",\"name\",\"is\",\"his\",\"her\",\"afraid\",\"ideas\",\"ideal\",\"ill\",\n",
    "                  \"effect\",\"iit\",\"eat\",\"induced\",\"day\",\"home\",\"fasting\",\"years\",\"days\",\"hours\",\"year\",\"day\",\"hour\",\"month\",\"months\",\"here\",\"there\",\"it\",\"here\",\"there\",\"much\",\n",
    "                  \"many\",\"few\",\"i\",\"me\",\"we\",\"he\",\"she\",\"it\",\"affect\",\"other\",\n",
    "                  \"associated\",\"point\",\"egg\",\"his\",\"her\",\"he\",\"she\",\"wake up\",\"air\",\"hands feet\",\"skip\",\n",
    "                  \"go\",\"went\",\"gone\",\"pick\",\"treat\",\"treatment\"])"
   ]
  },
  {
   "cell_type": "code",
   "execution_count": 24,
   "metadata": {},
   "outputs": [],
   "source": [
    "df2 = pd.read_excel(\"diab.xlsx\",sheet_name=\"Sheet1\")"
   ]
  },
  {
   "cell_type": "code",
   "execution_count": 72,
   "metadata": {},
   "outputs": [
    {
     "data": {
      "text/plain": [
       "['3 out of 4 of my relatives have died from diabetic complications gangrene amputations or heart attacks before the age of 60 i am a healthy 30 year old how do i assure this does not happen to me ',\n",
       " 'a lot of discussions are going on on hba1c and diabetes how do i decide about the correct reason to put you in diabetic or non-diabetic ',\n",
       " 'a patient was diagnosed with left capsuloganglionic hemorrhage what might be the prognosis his age is 60 years and is with associated comorbidities hypertension and diabetes what would be the better plan of treatment ',\n",
       " 'about 5 months ago i was diagnosed as a type 1 diabetic for some reason the diagnosis has made me paranoid about other aspects of my health and i ll find myself getting incredibly anxious at ridiculous things how can i stop worrying ',\n",
       " 'according to the most updated knowledge that we possess in 2018 what causes diabetes high blood sugar provided that it does not run in the family ',\n",
       " 'after 3-4 months can there possibly be any problems with diabetics ',\n",
       " 'after 30 minutes breakfast my blood sugar is 149 is it high ',\n",
       " 'after 4 5 hours of meal my sugar level is 63 is it normal ',\n",
       " 'after eating muskmelon how many minutes after do we have to check the blood sugar levels ',\n",
       " 'after fasting does low blood sugar rise again on its own when fat is burned even without further caloric intake ']"
      ]
     },
     "execution_count": 72,
     "metadata": {},
     "output_type": "execute_result"
    }
   ],
   "source": [
    "questions = df2.loc[:,0].values.tolist()\n",
    "questions = list(map(lambda x: str(x).lower(),questions))\n",
    "questions = list(map(lambda x: re.sub(r\"\\!|\\@|\\#|\\$|\\%|\\^|\\&|\\*|\\(|\\)|\\_|\\+|\\=|\\{|\\}|\\||\\:|\\\"|\\<|\\>|\\?|\\[|\\]|\\\\|\\;|\\'|\\,|\\/|\\.\",\" \",str(x)),questions))\n",
    "questions = list(map(lambda x:re.sub(r\"\\s{2,}\",\" \",x),questions))\n",
    "questions[0:10]"
   ]
  },
  {
   "cell_type": "code",
   "execution_count": 68,
   "metadata": {},
   "outputs": [],
   "source": [
    "def f(entity_list,sentence,item,entity_name):\n",
    "    a = re.split(r'\\s'+item+r'\\s',sentence)\n",
    "    if len(a) < 3:\n",
    "        start_index = len(a[0])\n",
    "        end_index = start_index + len(item)\n",
    "        entity_list.append((start_index,end_index,entity_name,item))\n",
    "    else:\n",
    "#         print(\"-------------begin----------------------\")\n",
    "        for index,value in enumerate(a[0:len(a)-1]):\n",
    "            start_index = len(a[index])\n",
    "            temp = index\n",
    "            while temp-1 >=0 :\n",
    "                temp = temp - 1\n",
    "                start_index =  start_index + len(a[temp])+len(\" \"+item+\" \")\n",
    "            end_index = start_index + len(item)\n",
    "            \n",
    "            entity_list.append((start_index,end_index,entity_name,item))\n",
    "    return entity_list"
   ]
  },
  {
   "cell_type": "code",
   "execution_count": 69,
   "metadata": {},
   "outputs": [],
   "source": [
    "# order in which entities are to be tagged\n",
    "preference_order = [\"PROBLEMS\",\"PROCEDURES\",\"DRUGS\",\"DEVICES\",\"FINDINGS\",\"ANATOMY\",\"DEVICES\"]"
   ]
  },
  {
   "cell_type": "code",
   "execution_count": 70,
   "metadata": {},
   "outputs": [],
   "source": [
    "#('Is it recommended to make lumpsum investments in elss mf funds or do a SIP?', {'entities': [(26, 33, 'modeOfInvestment'), (71, 74, 'modeOfInvestment'), (49, 56, 'elss')]})"
   ]
  },
  {
   "cell_type": "code",
   "execution_count": 71,
   "metadata": {},
   "outputs": [
    {
     "name": "stdout",
     "output_type": "stream",
     "text": [
      "2540\n",
      "2540\n"
     ]
    }
   ],
   "source": [
    "train_data = []\n",
    "count = 0\n",
    "for question in questions:\n",
    "    question = \" \"+str(question)+\" \"\n",
    "    entity_list = []\n",
    "#     count += 1\n",
    "    for entity_ in preference_order:\n",
    "        for item in entity_data[entity_]:\n",
    "            if type(item) is float or type(item) is int:\n",
    "                pass\n",
    "            else:\n",
    "                if \" \"+item+\" \" in question:\n",
    "                    if re.search(r\"\\w+\",item):\n",
    "                        if item not in stop_words:\n",
    "                            entity_list = f(entity_list,question,item,entity_)\n",
    "    train_data.append((question.strip(),{\"entities\":entity_list}))\n",
    "#     print((question.strip(),{\"entities\":entity_list}))\n",
    "#     if count > 10:\n",
    "#         break\n",
    "print(len(questions))\n",
    "print(len(train_data))"
   ]
  },
  {
   "cell_type": "code",
   "execution_count": null,
   "metadata": {},
   "outputs": [],
   "source": [
    "('are 44 units of lantus in the morning and 48 units of lantus at night plus novolog for meals and corrections a lot of insulin to take', {'entities': [(75, 82, 'DRUGS', 'novolog'), (118, 125, 'DRUGS', 'insulin'), (16, 22, 'DRUGS', 'lantus'), (54, 60, 'DRUGS', 'lantus'), (136, 142, 'DRUGS', 'lantus'), (30, 37, 'FINDINGS', 'morning'), (64, 69, 'FINDINGS', 'night')]})"
   ]
  }
 ],
 "metadata": {
  "kernelspec": {
   "display_name": "Python 3",
   "language": "python",
   "name": "python3"
  },
  "language_info": {
   "codemirror_mode": {
    "name": "ipython",
    "version": 3
   },
   "file_extension": ".py",
   "mimetype": "text/x-python",
   "name": "python",
   "nbconvert_exporter": "python",
   "pygments_lexer": "ipython3",
   "version": "3.6.3"
  }
 },
 "nbformat": 4,
 "nbformat_minor": 2
}
